{
  "cells": [
    {
      "cell_type": "markdown",
      "metadata": {
        "id": "view-in-github",
        "colab_type": "text"
      },
      "source": [
        "<a href=\"https://colab.research.google.com/github/brunaamanzi/ADA-Santander-Coders---datascience---m-dulo-1/blob/main/aula_Func%CC%A7o%CC%83es.ipynb\" target=\"_parent\"><img src=\"https://colab.research.google.com/assets/colab-badge.svg\" alt=\"Open In Colab\"/></a>"
      ]
    },
    {
      "cell_type": "markdown",
      "metadata": {
        "id": "YYA32uPKSU0M"
      },
      "source": [
        "___\n"
      ]
    },
    {
      "cell_type": "markdown",
      "metadata": {
        "id": "4hzbPSsESU0Z"
      },
      "source": [
        "## Exercícios"
      ]
    },
    {
      "cell_type": "markdown",
      "metadata": {
        "id": "-gO9bv07SU0a"
      },
      "source": [
        "1) Faça uma função que recebe um texto e um letra e retorne a quantidade daquela letra naquele texto (ignore diferenças de capitalização, 'A' e 'a' são a mesma letra)"
      ]
    },
    {
      "cell_type": "code",
      "source": [
        "  def função (frase,letra):\n",
        "    frase.lower()\n",
        "    letra.lower()\n",
        "    dicionário = {letra:0}\n",
        "    dicionário[letra] = frase.count(letra)\n",
        "    return dicionário"
      ],
      "metadata": {
        "id": "F8nnpv-fwebo"
      },
      "execution_count": 4,
      "outputs": []
    },
    {
      "cell_type": "code",
      "source": [
        "função('ola, boa tarde! tudo bem com voce?','b')"
      ],
      "metadata": {
        "id": "UMo39s1aC_Om",
        "colab": {
          "base_uri": "https://localhost:8080/"
        },
        "outputId": "65fcd9b8-b178-48d1-e1bf-bddc52993e29"
      },
      "execution_count": 7,
      "outputs": [
        {
          "output_type": "execute_result",
          "data": {
            "text/plain": [
              "{'b': 2}"
            ]
          },
          "metadata": {},
          "execution_count": 7
        }
      ]
    },
    {
      "cell_type": "markdown",
      "source": [
        "2) Faça uma função que recebe uma string e retorna ela ao contrário.\n"
      ],
      "metadata": {
        "id": "gztZ-jKTMCUp"
      }
    },
    {
      "cell_type": "code",
      "source": [
        "def contrário (string):\n",
        "  return string[::-1]\n"
      ],
      "metadata": {
        "id": "mukvOU0FDADJ"
      },
      "execution_count": 38,
      "outputs": []
    },
    {
      "cell_type": "code",
      "source": [
        "contrário('testando')"
      ],
      "metadata": {
        "colab": {
          "base_uri": "https://localhost:8080/",
          "height": 35
        },
        "id": "a869NDYc1cEz",
        "outputId": "641a6e46-f8d2-4c23-a46a-fd7b1982a3d0"
      },
      "execution_count": 39,
      "outputs": [
        {
          "output_type": "execute_result",
          "data": {
            "text/plain": [
              "'odnatset'"
            ],
            "application/vnd.google.colaboratory.intrinsic+json": {
              "type": "string"
            }
          },
          "metadata": {},
          "execution_count": 39
        }
      ]
    },
    {
      "cell_type": "markdown",
      "source": [
        "3) Agora faça uma função que recebe uma palavra e diz se ela é um palíndromo, ou seja, se ela é igual a ela mesma ao contrário.\n",
        "\n",
        "Sugestão: use a função do exercício anterior."
      ],
      "metadata": {
        "id": "4PQVQpvjLtJ9"
      }
    },
    {
      "cell_type": "code",
      "source": [
        "def palíndromo (string):\n",
        "  if string == string[::-1]:\n",
        "    return 'PALÍNDROMO!'\n",
        "  else:\n",
        "    return 'Essa palavra não é um palíndromo.'"
      ],
      "metadata": {
        "id": "NtVrXf4kDAuH"
      },
      "execution_count": 32,
      "outputs": []
    },
    {
      "cell_type": "code",
      "source": [
        "palíndromo('ava')"
      ],
      "metadata": {
        "colab": {
          "base_uri": "https://localhost:8080/",
          "height": 35
        },
        "id": "_POghd9mghsL",
        "outputId": "aa5b8f5c-7b8e-4ae7-ed5c-e129f4c40cf5"
      },
      "execution_count": 35,
      "outputs": [
        {
          "output_type": "execute_result",
          "data": {
            "text/plain": [
              "'PALÍNDROMO!'"
            ],
            "application/vnd.google.colaboratory.intrinsic+json": {
              "type": "string"
            }
          },
          "metadata": {},
          "execution_count": 35
        }
      ]
    }
  ],
  "metadata": {
    "kernelspec": {
      "display_name": "Python 3",
      "language": "python",
      "name": "python3"
    },
    "language_info": {
      "codemirror_mode": {
        "name": "ipython",
        "version": 3
      },
      "file_extension": ".py",
      "mimetype": "text/x-python",
      "name": "python",
      "nbconvert_exporter": "python",
      "pygments_lexer": "ipython3",
      "version": "3.8.5"
    },
    "varInspector": {
      "cols": {
        "lenName": 16,
        "lenType": 16,
        "lenVar": 40
      },
      "kernels_config": {
        "python": {
          "delete_cmd_postfix": "",
          "delete_cmd_prefix": "del ",
          "library": "var_list.py",
          "varRefreshCmd": "print(var_dic_list())"
        },
        "r": {
          "delete_cmd_postfix": ") ",
          "delete_cmd_prefix": "rm(",
          "library": "var_list.r",
          "varRefreshCmd": "cat(var_dic_list()) "
        }
      },
      "types_to_exclude": [
        "module",
        "function",
        "builtin_function_or_method",
        "instance",
        "_Feature"
      ],
      "window_display": false
    },
    "colab": {
      "provenance": [],
      "include_colab_link": true
    }
  },
  "nbformat": 4,
  "nbformat_minor": 0
}