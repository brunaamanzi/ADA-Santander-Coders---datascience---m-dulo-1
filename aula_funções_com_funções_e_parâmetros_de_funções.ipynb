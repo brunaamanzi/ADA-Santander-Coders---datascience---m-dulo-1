{
  "cells": [
    {
      "cell_type": "markdown",
      "metadata": {
        "id": "view-in-github",
        "colab_type": "text"
      },
      "source": [
        "<a href=\"https://colab.research.google.com/github/brunaamanzi/ADA-Santander-Coders---datascience---m-dulo-1/blob/main/aula_fun%C3%A7%C3%B5es_com_fun%C3%A7%C3%B5es_e_para%CC%82metros_de_func%CC%A7o%CC%83es.ipynb\" target=\"_parent\"><img src=\"https://colab.research.google.com/assets/colab-badge.svg\" alt=\"Open In Colab\"/></a>"
      ]
    },
    {
      "cell_type": "markdown",
      "metadata": {
        "id": "lLeOP1U54lt2"
      },
      "source": [
        "## Exercícios"
      ]
    },
    {
      "cell_type": "markdown",
      "source": [
        "Faça um código que faça a subtracao entre elementos de diferentes listas e eleve esse resultado ao quadrado .\n",
        "\n",
        "exemplo:\n",
        "\n",
        "<center>\n",
        "\n",
        "|listas  | 0 | 1 | 2 |\n",
        "--- | --- | --- | --- |\n",
        "lista1| 3 | 5 | 15\n",
        "lista2 | 4 | 4 | 10\n",
        "diferença | -1 | 1 | 5\n",
        "quadrado da diferença | 1 | 1 | 25\n",
        "\n",
        "</center>\n",
        "\n",
        "- sugestão: utilize a função map()"
      ],
      "metadata": {
        "id": "Z-x_pI8FI7Gh"
      }
    },
    {
      "cell_type": "code",
      "source": [],
      "metadata": {
        "id": "E1o22DFKF_gd"
      },
      "execution_count": null,
      "outputs": []
    },
    {
      "cell_type": "code",
      "source": [],
      "metadata": {
        "id": "3orjnXThQ52O"
      },
      "execution_count": null,
      "outputs": []
    },
    {
      "cell_type": "markdown",
      "source": [
        "Escreva um código que recebe uma tupla ou lista e retorna os elementos que têm uma vogal"
      ],
      "metadata": {
        "id": "xzDnnTL6PXMf"
      }
    },
    {
      "cell_type": "code",
      "source": [
        "\n",
        "\n",
        "\n"
      ],
      "metadata": {
        "id": "t8wBnBGaUll6"
      },
      "execution_count": null,
      "outputs": []
    },
    {
      "cell_type": "code",
      "source": [],
      "metadata": {
        "id": "Jxc_CC2OTZtZ"
      },
      "execution_count": 1,
      "outputs": []
    },
    {
      "cell_type": "code",
      "source": [],
      "metadata": {
        "id": "p04awHuvUDV4"
      },
      "execution_count": null,
      "outputs": []
    },
    {
      "cell_type": "code",
      "source": [],
      "metadata": {
        "id": "fgpSZmV1VlSz"
      },
      "execution_count": 1,
      "outputs": []
    },
    {
      "cell_type": "markdown",
      "source": [
        "Faça um código que retorne a multiplicacao de todos os elementos da lista\n",
        "\n",
        "- sugestão: utilize a função reduce()"
      ],
      "metadata": {
        "id": "GHBBNkGQXwtt"
      }
    },
    {
      "cell_type": "code",
      "source": [
        "from functools import reduce\n",
        "\n"
      ],
      "metadata": {
        "id": "2W4pkzfwUn7Q"
      },
      "execution_count": 3,
      "outputs": []
    },
    {
      "cell_type": "code",
      "source": [],
      "metadata": {
        "id": "1239sb3CUqry"
      },
      "execution_count": 1,
      "outputs": []
    },
    {
      "cell_type": "markdown",
      "source": [
        "Faça uma função que sempre some 3 valores e retorne o total de sua soma"
      ],
      "metadata": {
        "id": "cKN9Ae5WA4QG"
      }
    },
    {
      "cell_type": "code",
      "source": [],
      "metadata": {
        "id": "8BKH6b6oWTfZ"
      },
      "execution_count": 1,
      "outputs": []
    },
    {
      "cell_type": "code",
      "source": [],
      "metadata": {
        "id": "VRBUNxAvXcrM"
      },
      "execution_count": 1,
      "outputs": []
    },
    {
      "cell_type": "code",
      "source": [],
      "metadata": {
        "id": "_nF0hpGGXeZN"
      },
      "execution_count": 1,
      "outputs": []
    },
    {
      "cell_type": "markdown",
      "source": [
        "Agora faça uma função que pode receber múltiplos argumentos e retorne o total de sua soma"
      ],
      "metadata": {
        "id": "ixAwezLmBot8"
      }
    },
    {
      "cell_type": "code",
      "source": [],
      "metadata": {
        "id": "rOwZxNcSXrTt"
      },
      "execution_count": 1,
      "outputs": []
    },
    {
      "cell_type": "code",
      "source": [],
      "metadata": {
        "id": "qvc3jFOlUsgy"
      },
      "execution_count": 1,
      "outputs": []
    },
    {
      "cell_type": "code",
      "source": [],
      "metadata": {
        "id": "YEdf0FL7X2Ra"
      },
      "execution_count": 1,
      "outputs": []
    },
    {
      "cell_type": "markdown",
      "source": [
        "- correções dos exercícios\n",
        "- arquivos\n",
        "- exercícios de arquivos\n",
        "- compartilhar o projeto do módulo\n"
      ],
      "metadata": {
        "id": "H1niS7kdNNwt"
      }
    },
    {
      "cell_type": "markdown",
      "source": [
        "Faça uma função que recebe uma quantidade arbitrária de variáveis de qualquer tipo e retorna uma string contendo todas as suas representações separadas por espaço"
      ],
      "metadata": {
        "id": "DrT6AKrRXjvO"
      }
    },
    {
      "cell_type": "code",
      "source": [],
      "metadata": {
        "id": "KCQyJMlcU5vz"
      },
      "execution_count": 2,
      "outputs": []
    },
    {
      "cell_type": "code",
      "source": [],
      "metadata": {
        "id": "727bPU5wPrGu"
      },
      "execution_count": 2,
      "outputs": []
    },
    {
      "cell_type": "markdown",
      "source": [
        "Modifique a função anterior para incluir um parâmetro opcional indicando o caractere de separação entre as variáveis. Seu valor padrão será 1 espaço em branco"
      ],
      "metadata": {
        "id": "B2HGDYut7NPy"
      }
    },
    {
      "cell_type": "code",
      "source": [
        "\n"
      ],
      "metadata": {
        "id": "bdrI_pRtU_aq"
      },
      "execution_count": 2,
      "outputs": []
    },
    {
      "cell_type": "markdown",
      "source": [
        "criar uma função que consiga registrar dados sobre animais.\n",
        "- tenha um parâmetro obrigatorio para identificar o animal (ex: gato, cachorro, etc.)\n",
        "- tenha um parâmetro país com padrão Brasil\n",
        "- aceite através de múltiplos parâmetros características desse animal (ex:quantidade_asas, raca, etc)\n",
        "- retornar um texto que contenha o valores que foram inputadas em animal, país e:\n",
        " - caso tenha alguma outra característica extra: também retorna no texto a quantidade de características (parâmetros) que foram registrados e seus nomes.\n",
        " - caso não tenha característica extra mencionar mencionar no texto de retorno"
      ],
      "metadata": {
        "id": "fq_Zxo_Rnf_W"
      }
    },
    {
      "cell_type": "code",
      "source": [
        "**kwargs"
      ],
      "metadata": {
        "id": "5UzOh8JOUEDg"
      },
      "execution_count": 2,
      "outputs": []
    },
    {
      "cell_type": "code",
      "source": [],
      "metadata": {
        "id": "I5CMMrGPXNOG"
      },
      "execution_count": 2,
      "outputs": []
    },
    {
      "cell_type": "code",
      "source": [],
      "metadata": {
        "id": "YZj-PtFzXun8"
      },
      "execution_count": 2,
      "outputs": []
    },
    {
      "cell_type": "code",
      "source": [],
      "metadata": {
        "id": "yX6ZMz2_UbEW"
      },
      "execution_count": 2,
      "outputs": []
    },
    {
      "cell_type": "code",
      "source": [],
      "metadata": {
        "id": "_-Y73iFxUM7d"
      },
      "execution_count": 2,
      "outputs": []
    },
    {
      "cell_type": "code",
      "source": [],
      "metadata": {
        "id": "drhjHW2mSuhv"
      },
      "execution_count": 2,
      "outputs": []
    },
    {
      "cell_type": "code",
      "source": [],
      "metadata": {
        "id": "Uj4T8lT2VDx9"
      },
      "execution_count": 2,
      "outputs": []
    },
    {
      "cell_type": "markdown",
      "source": [
        "# Link úteis"
      ],
      "metadata": {
        "id": "S6ZxF_OfzvWI"
      }
    },
    {
      "cell_type": "markdown",
      "source": [
        "https://docs.python.org/3/tutorial/controlflow.html#more-on-defining-functions"
      ],
      "metadata": {
        "id": "Ac052UNmzx9M"
      }
    },
    {
      "cell_type": "markdown",
      "source": [
        "https://peps.python.org/pep-0008/"
      ],
      "metadata": {
        "id": "gWyLGpgpz3Ag"
      }
    },
    {
      "cell_type": "markdown",
      "source": [
        "https://www.w3schools.com/python/ref_func_print.asp"
      ],
      "metadata": {
        "id": "t6-UxbIN0Eqm"
      }
    },
    {
      "cell_type": "markdown",
      "source": [
        "https://www.datacamp.com/tutorial/functions-python-tutorial"
      ],
      "metadata": {
        "id": "kOQKYlT5FlyC"
      }
    }
  ],
  "metadata": {
    "interpreter": {
      "hash": "ad2bdc8ecc057115af97d19610ffacc2b4e99fae6737bb82f5d7fb13d2f2c186"
    },
    "kernelspec": {
      "display_name": "Python 3.9.7 ('base')",
      "language": "python",
      "name": "python3"
    },
    "language_info": {
      "codemirror_mode": {
        "name": "ipython",
        "version": 3
      },
      "file_extension": ".py",
      "mimetype": "text/x-python",
      "name": "python",
      "nbconvert_exporter": "python",
      "pygments_lexer": "ipython3",
      "version": "3.9.7"
    },
    "orig_nbformat": 4,
    "colab": {
      "provenance": [],
      "include_colab_link": true
    }
  },
  "nbformat": 4,
  "nbformat_minor": 0
}